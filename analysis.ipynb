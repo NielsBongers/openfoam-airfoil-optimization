{
 "cells": [
  {
   "cell_type": "code",
   "execution_count": 1,
   "metadata": {},
   "outputs": [],
   "source": [
    "from pathlib import Path\n",
    "import pandas as pd\n",
    "import matplotlib.pyplot as plt\n",
    "from matplotlib import dates as mdates\n",
    "import numpy as np"
   ]
  },
  {
   "cell_type": "code",
   "execution_count": 2,
   "metadata": {},
   "outputs": [],
   "source": [
    "csv_path = Path(\n",
    "    r\"\\\\wsl.localhost\\Ubuntu-24.04\\home\\user\\OF\\attempt_2\\results\\csv\\results.csv\"\n",
    ")"
   ]
  },
  {
   "cell_type": "markdown",
   "metadata": {},
   "source": [
    "Loading in data"
   ]
  },
  {
   "cell_type": "code",
   "execution_count": 19,
   "metadata": {},
   "outputs": [],
   "source": [
    "df = pd.read_csv(csv_path, parse_dates=[\"datetime\"])\n",
    "df[\"cl_cd\"] = df[\"cl\"] / df[\"cd\"]\n",
    "df[\"cl_cd_abs\"] = (df[\"cl\"] / df[\"cd\"]).abs()\n",
    "df[\"failed\"] = (~df[[\"block_mesh\", \"check_mesh\", \"simple\"]]).any(axis=1)\n",
    "df_filtered = df.dropna(subset=[\"cl\", \"cd\"])"
   ]
  },
  {
   "cell_type": "markdown",
   "metadata": {},
   "source": [
    "Progress plot"
   ]
  },
  {
   "cell_type": "code",
   "execution_count": null,
   "metadata": {},
   "outputs": [],
   "source": [
    "plt.figure(figsize=(12, 6))\n",
    "plt.plot(\n",
    "    df_filtered[\"datetime\"],\n",
    "    df_filtered[\"cl_cd_abs\"],\n",
    "    label=\"Lift-drag ratio (Cl/Cd)\",\n",
    "    marker=\"o\",\n",
    "    color=\"tab:blue\",\n",
    ")\n",
    "plt.plot(\n",
    "    df_filtered[\"datetime\"],\n",
    "    df_filtered[\"cl_cd_abs\"].cummax(),\n",
    "    label=\"Cumulative max Cl/Cd\",\n",
    "    linestyle=\"--\",\n",
    "    color=\"tab:green\",\n",
    ")\n",
    "plt.scatter(\n",
    "    df[df[\"failed\"]][\"datetime\"],\n",
    "    df[df[\"failed\"]][\"failed\"],\n",
    "    s=10,\n",
    "    color=\"tab:red\",\n",
    "    alpha=0.5,\n",
    ")\n",
    "\n",
    "plt.title(\"Lift-drag ratio over time\")\n",
    "plt.xlabel(\"Time\")\n",
    "plt.ylabel(\"$C_l/C_d$ ratio\")\n",
    "\n",
    "# Use a locator to reduce the density of x-ticks\n",
    "# locator = mdates.HourLocator(interval=1)\n",
    "# formatter = mdates.DateFormatter(\"%H:%M\")\n",
    "# plt.gca().xaxis.set_major_locator(locator)\n",
    "# plt.gca().xaxis.set_major_formatter(formatter)\n",
    "\n",
    "plt.legend()\n",
    "plt.grid()\n",
    "plt.tight_layout()\n",
    "plt.show()"
   ]
  },
  {
   "cell_type": "code",
   "execution_count": null,
   "metadata": {},
   "outputs": [],
   "source": [
    "df_filtered = df_filtered.sort_values(by=\"cl_cd_abs\", ascending=False)\n",
    "\n",
    "for row in df_filtered.head(10).itertuples():\n",
    "    x = np.array([row.x0, row.x1, row.x2, row.x3, row.x4, row.x5])\n",
    "    print(f\"{row.cl_cd} - {list(x)}\")"
   ]
  }
 ],
 "metadata": {
  "kernelspec": {
   "display_name": "Python 3",
   "language": "python",
   "name": "python3"
  },
  "language_info": {
   "codemirror_mode": {
    "name": "ipython",
    "version": 3
   },
   "file_extension": ".py",
   "mimetype": "text/x-python",
   "name": "python",
   "nbconvert_exporter": "python",
   "pygments_lexer": "ipython3",
   "version": "3.11.9"
  }
 },
 "nbformat": 4,
 "nbformat_minor": 2
}
