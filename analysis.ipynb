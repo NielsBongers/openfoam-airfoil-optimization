{
 "cells": [
  {
   "cell_type": "code",
   "execution_count": 1237,
   "metadata": {},
   "outputs": [],
   "source": [
    "from pathlib import Path\n",
    "import pandas as pd\n",
    "import matplotlib.pyplot as plt\n",
    "from matplotlib import dates as mdates\n",
    "import numpy as np\n",
    "from sklearn.ensemble import RandomForestRegressor\n",
    "from sklearn.model_selection import train_test_split\n",
    "from sklearn.metrics import mean_squared_error, mean_absolute_error"
   ]
  },
  {
   "cell_type": "code",
   "execution_count": 1242,
   "metadata": {},
   "outputs": [],
   "source": [
    "csv_path = Path(\n",
    "    r\"\\\\wsl.localhost\\Ubuntu-24.04\\home\\user\\OF\\attempt_2\\results\\csv\\results.csv\"\n",
    ")\n",
    "figures_path = Path(\n",
    "    r\"\\\\wsl.localhost\\Ubuntu-24.04\\home\\user\\OF\\attempt_2\\results/figures\"\n",
    ")\n",
    "figures_path.mkdir(exist_ok=True, parents=True)"
   ]
  },
  {
   "cell_type": "markdown",
   "metadata": {},
   "source": [
    "Loading in data"
   ]
  },
  {
   "cell_type": "code",
   "execution_count": 1239,
   "metadata": {},
   "outputs": [],
   "source": [
    "df = pd.read_csv(csv_path, parse_dates=[\"datetime\"])\n",
    "df[\"cl_cd\"] = df[\"cl\"] / df[\"cd\"]\n",
    "df[\"cl_cd_abs\"] = (df[\"cl\"] / df[\"cd\"]).abs()\n",
    "df[\"failed\"] = (~df[[\"block_mesh\", \"check_mesh\", \"simple\"]]).any(axis=1)\n",
    "df_filtered = df.dropna(subset=[\"cl\", \"cd\"]).copy()\n",
    "df_filtered[\"moving_avg\"] = df_filtered[\"cl_cd_abs\"].rolling(window=30).mean()"
   ]
  },
  {
   "cell_type": "markdown",
   "metadata": {},
   "source": [
    "Progress plot"
   ]
  },
  {
   "cell_type": "code",
   "execution_count": null,
   "metadata": {},
   "outputs": [],
   "source": [
    "plt.figure(figsize=(12, 6))\n",
    "plt.scatter(\n",
    "    df_filtered[\"datetime\"],\n",
    "    df_filtered[\"cl_cd_abs\"],\n",
    "    label=\"Lift-drag ratio (Cl/Cd)\",\n",
    "    marker=\"o\",\n",
    "    color=\"tab:blue\",\n",
    ")\n",
    "plt.plot(\n",
    "    df_filtered[\"datetime\"],\n",
    "    df_filtered[\"cl_cd_abs\"].cummax(),\n",
    "    label=\"Cumulative max Cl/Cd\",\n",
    "    linestyle=\"--\",\n",
    "    color=\"tab:green\",\n",
    ")\n",
    "plt.scatter(\n",
    "    df[df[\"failed\"]][\"datetime\"],\n",
    "    -df[df[\"failed\"]][\"failed\"],\n",
    "    s=10,\n",
    "    color=\"tab:red\",\n",
    "    alpha=0.1,\n",
    "    label=\"Failed runs\",\n",
    ")\n",
    "\n",
    "plt.plot(\n",
    "    df_filtered[\"datetime\"],\n",
    "    df_filtered[\"moving_avg\"],\n",
    "    label=\"Moving average\",\n",
    "    linestyle=\"-.\",\n",
    "    color=\"tab:orange\",\n",
    ")\n",
    "\n",
    "plt.title(\"Lift-drag ratio over time\")\n",
    "plt.xlabel(\"Time\")\n",
    "plt.ylabel(\"$C_l/C_d$ ratio\")\n",
    "\n",
    "# Use a locator to reduce the density of x-ticks\n",
    "# locator = mdates.HourLocator(interval=1)\n",
    "# formatter = mdates.DateFormatter(\"%H:%M\")\n",
    "# plt.gca().xaxis.set_major_locator(locator)\n",
    "# plt.gca().xaxis.set_major_formatter(formatter)\n",
    "\n",
    "plt.legend()\n",
    "plt.grid()\n",
    "plt.tight_layout()\n",
    "plt.savefig(\n",
    "    \"results/figures/27122024 - OpenFOAM - Lift-drag ratio over time.png\", dpi=300\n",
    ")\n",
    "plt.show()"
   ]
  },
  {
   "cell_type": "code",
   "execution_count": null,
   "metadata": {},
   "outputs": [],
   "source": [
    "df_subset = df_filtered[\n",
    "    (df_filtered[\"cl_cd_abs\"] > 5.0) & (df_filtered[\"cl_cd_abs\"] < 30.0)\n",
    "]\n",
    "\n",
    "X = df_subset[[\"x0\", \"x1\", \"x2\", \"x3\", \"x4\", \"x5\"]]\n",
    "y = df_subset[\"cl_cd\"]\n",
    "\n",
    "# Split data into training and testing sets\n",
    "X_train, X_test, y_train, y_test = train_test_split(X, y, test_size=0.1)\n",
    "\n",
    "# Initialize Random Forest Regressor\n",
    "rf = RandomForestRegressor(n_estimators=100, random_state=42)\n",
    "\n",
    "# Train the model\n",
    "rf.fit(X_train, y_train)\n",
    "\n",
    "# Make predictions\n",
    "y_pred = rf.predict(X_test)\n",
    "\n",
    "# Evaluate the model\n",
    "mse = mean_squared_error(y_test, y_pred)\n",
    "mae = mean_absolute_error(y_test, y_pred)\n",
    "percentage_error = np.mean(np.abs((y_test - y_pred) / y_test)) * 100\n",
    "\n",
    "print(f\"Mean Squared Error: {mse}\")\n",
    "print(f\"Mean Absolute Error: {mae}\")\n",
    "print(f\"Mean Percentage Error: {percentage_error:.2f}%\")\n",
    "\n",
    "# Dummy method: Mean baseline\n",
    "y_dummy_pred = [y_train.mean()] * len(y_test)\n",
    "mse_dummy = mean_squared_error(y_test, y_dummy_pred)\n",
    "mae_dummy = mean_absolute_error(y_test, y_dummy_pred)\n",
    "percentage_error_dummy = np.mean(np.abs((y_test - y_dummy_pred) / y_test)) * 100\n",
    "\n",
    "print(\"\\nDummy Model Evaluation:\")\n",
    "print(f\"Mean Squared Error (Dummy): {mse_dummy}\")\n",
    "print(f\"Mean Absolute Error (Dummy): {mae_dummy}\")\n",
    "print(f\"Mean Percentage Error (Dummy): {percentage_error_dummy:.2f}%\")\n",
    "\n",
    "plt.hist(np.abs((y_test - y_dummy_pred) / y_test) * 100, bins=20)\n",
    "plt.xlabel(\"Error (%)\")\n",
    "plt.ylabel(\"Bin count\")\n",
    "plt.title(\"Reduced form with random forest\");\n",
    "\n",
    "# plt.xlim([0, 250])\n",
    "\n",
    "# # Feature importance\n",
    "# feature_importances = pd.DataFrame(\n",
    "#     {\"Feature\": X.columns, \"Importance\": rf.feature_importances_}\n",
    "# ).sort_values(by=\"Importance\", ascending=False)\n",
    "# print(feature_importances)\n",
    "\n",
    "# [\n",
    "#     print(y_test_entry, y_pred_entry)\n",
    "#     for y_test_entry, y_pred_entry in zip(y_test, y_pred)\n",
    "# ];\n"
   ]
  }
 ],
 "metadata": {
  "kernelspec": {
   "display_name": "Python 3",
   "language": "python",
   "name": "python3"
  },
  "language_info": {
   "codemirror_mode": {
    "name": "ipython",
    "version": 3
   },
   "file_extension": ".py",
   "mimetype": "text/x-python",
   "name": "python",
   "nbconvert_exporter": "python",
   "pygments_lexer": "ipython3",
   "version": "3.11.9"
  }
 },
 "nbformat": 4,
 "nbformat_minor": 2
}
